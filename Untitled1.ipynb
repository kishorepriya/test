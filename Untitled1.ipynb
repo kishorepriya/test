{
 "cells": [
  {
   "cell_type": "code",
   "execution_count": 4,
   "id": "784e7a54",
   "metadata": {},
   "outputs": [
    {
     "name": "stdout",
     "output_type": "stream",
     "text": [
      "Defaulting to user installation because normal site-packages is not writeable\n"
     ]
    },
    {
     "name": "stderr",
     "output_type": "stream",
     "text": [
      "ERROR: Could not find a version that satisfies the requirement base64 (from versions: none)\n",
      "ERROR: No matching distribution found for base64\n"
     ]
    }
   ],
   "source": [
    "!pip install base64"
   ]
  },
  {
   "cell_type": "code",
   "execution_count": 6,
   "id": "db1a2f6f",
   "metadata": {},
   "outputs": [],
   "source": [
    "import streamlit as st\n",
    "import twint\n",
    "import pandas as pd\n",
    "import bs4 import beautifulsoup\n",
    "import requests"
   ]
  },
  {
   "cell_type": "code",
   "execution_count": null,
   "id": "cab087b6",
   "metadata": {},
   "outputs": [],
   "source": [
    "st."
   ]
  }
 ],
 "metadata": {
  "kernelspec": {
   "display_name": "Python 3 (ipykernel)",
   "language": "python",
   "name": "python3"
  },
  "language_info": {
   "codemirror_mode": {
    "name": "ipython",
    "version": 3
   },
   "file_extension": ".py",
   "mimetype": "text/x-python",
   "name": "python",
   "nbconvert_exporter": "python",
   "pygments_lexer": "ipython3",
   "version": "3.9.13"
  }
 },
 "nbformat": 4,
 "nbformat_minor": 5
}
