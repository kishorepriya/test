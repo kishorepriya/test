{
  "nbformat": 4,
  "nbformat_minor": 0,
  "metadata": {
    "colab": {
      "provenance": [],
      "authorship_tag": "ABX9TyN/oB7kwBXCWKsOa0bdLJPT",
      "include_colab_link": true
    },
    "kernelspec": {
      "name": "python3",
      "display_name": "Python 3"
    },
    "language_info": {
      "name": "python"
    }
  },
  "cells": [
    {
      "cell_type": "markdown",
      "metadata": {
        "id": "view-in-github",
        "colab_type": "text"
      },
      "source": [
        "<a href=\"https://colab.research.google.com/github/kishorepriya/test/blob/main/Untitled14.ipynb\" target=\"_parent\"><img src=\"https://colab.research.google.com/assets/colab-badge.svg\" alt=\"Open In Colab\"/></a>"
      ]
    },
    {
      "cell_type": "code",
      "execution_count": 1,
      "metadata": {
        "colab": {
          "base_uri": "https://localhost:8080/"
        },
        "id": "duwLGoRim-Ro",
        "outputId": "f9f27032-cd44-490a-e799-95458d51e8a4"
      },
      "outputs": [
        {
          "output_type": "stream",
          "name": "stdout",
          "text": [
            "Looking in indexes: https://pypi.org/simple, https://us-python.pkg.dev/colab-wheels/public/simple/\n",
            "Collecting snscrape\n",
            "  Downloading snscrape-0.6.1.20230314-py3-none-any.whl (71 kB)\n",
            "\u001b[2K     \u001b[90m━━━━━━━━━━━━━━━━━━━━━━━━━━━━━━━━━━━━━━━━\u001b[0m \u001b[32m71.6/71.6 KB\u001b[0m \u001b[31m2.4 MB/s\u001b[0m eta \u001b[36m0:00:00\u001b[0m\n",
            "\u001b[?25hRequirement already satisfied: beautifulsoup4 in /usr/local/lib/python3.9/dist-packages (from snscrape) (4.9.3)\n",
            "Requirement already satisfied: requests[socks] in /usr/local/lib/python3.9/dist-packages (from snscrape) (2.25.1)\n",
            "Requirement already satisfied: filelock in /usr/local/lib/python3.9/dist-packages (from snscrape) (3.9.0)\n",
            "Requirement already satisfied: lxml in /usr/local/lib/python3.9/dist-packages (from snscrape) (4.9.2)\n",
            "Requirement already satisfied: soupsieve>1.2 in /usr/local/lib/python3.9/dist-packages (from beautifulsoup4->snscrape) (2.4)\n",
            "Requirement already satisfied: chardet<5,>=3.0.2 in /usr/local/lib/python3.9/dist-packages (from requests[socks]->snscrape) (4.0.0)\n",
            "Requirement already satisfied: urllib3<1.27,>=1.21.1 in /usr/local/lib/python3.9/dist-packages (from requests[socks]->snscrape) (1.26.14)\n",
            "Requirement already satisfied: idna<3,>=2.5 in /usr/local/lib/python3.9/dist-packages (from requests[socks]->snscrape) (2.10)\n",
            "Requirement already satisfied: certifi>=2017.4.17 in /usr/local/lib/python3.9/dist-packages (from requests[socks]->snscrape) (2022.12.7)\n",
            "Requirement already satisfied: PySocks!=1.5.7,>=1.5.6 in /usr/local/lib/python3.9/dist-packages (from requests[socks]->snscrape) (1.7.1)\n",
            "Installing collected packages: snscrape\n",
            "Successfully installed snscrape-0.6.1.20230314\n"
          ]
        }
      ],
      "source": [
        "!pip install snscrape"
      ]
    },
    {
      "cell_type": "code",
      "source": [
        "import snscrape.modules.twitter as sntwitter\n",
        "from tqdm.notebook import tqdm\n",
        "import pandas as pd\n",
        "import json\n"
      ],
      "metadata": {
        "id": "EoUfGYBtnEWT"
      },
      "execution_count": 2,
      "outputs": []
    },
    {
      "cell_type": "code",
      "source": [
        "scrape=sntwitter.TwitterSearchScraper(\"#elonmusk until:2023-02-28 since:2023-02-01\")"
      ],
      "metadata": {
        "id": "fTKKv8jOndxr"
      },
      "execution_count": 3,
      "outputs": []
    },
    {
      "cell_type": "code",
      "source": [
        "tweets=[]"
      ],
      "metadata": {
        "id": "RFepAbX1njZB"
      },
      "execution_count": 4,
      "outputs": []
    },
    {
      "cell_type": "code",
      "source": [
        "for i, tweet in enumerate(scrape.get_items()):\n",
        "    data=[\n",
        "     tweet.date,\n",
        "     tweet.id,\n",
        "     tweet.content,\n",
        "     tweet.user.username,\n",
        "     tweet.likeCount,\n",
        "     tweet.retweetCount,\n",
        "    ]\n",
        "    tweets.append(data)\n",
        "    if i>100:\n",
        "        break"
      ],
      "metadata": {
        "colab": {
          "base_uri": "https://localhost:8080/"
        },
        "id": "dPb0Vr9TnpL-",
        "outputId": "28108bdd-451c-4dc5-8e89-af03b16e2c71"
      },
      "execution_count": 5,
      "outputs": [
        {
          "output_type": "stream",
          "name": "stderr",
          "text": [
            "<ipython-input-5-1b28e8ec5843>:5: DeprecatedFeatureWarning: content is deprecated, use rawContent instead\n",
            "  tweet.content,\n"
          ]
        }
      ]
    },
    {
      "cell_type": "code",
      "source": [
        "df=pd.DataFrame(\n",
        "    tweets, columns=[\"date\", \"id\", \"content\", \"username\", \"like_count\", \"retweet\"])"
      ],
      "metadata": {
        "id": "63UNlz0PntSJ"
      },
      "execution_count": 6,
      "outputs": []
    },
    {
      "cell_type": "code",
      "source": [
        "df"
      ],
      "metadata": {
        "colab": {
          "base_uri": "https://localhost:8080/",
          "height": 423
        },
        "id": "WyyVAWIWrT-8",
        "outputId": "30f62c6b-b81f-417b-fbd0-7dc7ec9e3781"
      },
      "execution_count": 7,
      "outputs": [
        {
          "output_type": "execute_result",
          "data": {
            "text/plain": [
              "                         date                   id  \\\n",
              "0   2023-02-27 23:59:31+00:00  1630356987547353093   \n",
              "1   2023-02-27 23:58:41+00:00  1630356778956324866   \n",
              "2   2023-02-27 23:58:06+00:00  1630356632696762374   \n",
              "3   2023-02-27 23:57:00+00:00  1630356356065808384   \n",
              "4   2023-02-27 23:56:53+00:00  1630356326055305217   \n",
              "..                        ...                  ...   \n",
              "97  2023-02-27 22:47:21+00:00  1630338826093617152   \n",
              "98  2023-02-27 22:47:20+00:00  1630338824516542466   \n",
              "99  2023-02-27 22:46:47+00:00  1630338683445587970   \n",
              "100 2023-02-27 22:46:20+00:00  1630338572900356096   \n",
              "101 2023-02-27 22:46:01+00:00  1630338494462656513   \n",
              "\n",
              "                                               content         username  \\\n",
              "0    Two hundred workers at the social network lost...      VozMediaUSA   \n",
              "1    🗣️Jonathan Pomerantz, director comercial y de ...      INMOBILIARE   \n",
              "2    #ULTIMAHORA\\n#Tesla llegará a #México #ElonMus...    LaRedPuntoCom   \n",
              "3    #elonmusk wants $412 mil in tax relief for #te...    TweetyThings1   \n",
              "4    Rupert Murdoch admits Fox News hosts endorsed ...         diypotus   \n",
              "..                                                 ...              ...   \n",
              "97   #ÚLTIMAHORA, La 4ta Transformación de México e...        36_global   \n",
              "98   JAJAJA #TwitterDown #ElonMusk https://t.co/yVz...    gato_negro_04   \n",
              "99   Media Is Racist Towards Whites &amp; Asians Ac...  kamaljohnsonent   \n",
              "100  Y en noticias más amables.\\n\\n#Tesla #ElonMusk...       garoarenas   \n",
              "101  HiPhi X 2023 Flagship Version\\n\\n#electriccar ...        eAutoCity   \n",
              "\n",
              "     like_count  retweet  \n",
              "0             1        0  \n",
              "1             1        0  \n",
              "2             3        0  \n",
              "3             0        0  \n",
              "4             0        0  \n",
              "..          ...      ...  \n",
              "97            1        0  \n",
              "98            0        0  \n",
              "99            0        1  \n",
              "100          53        4  \n",
              "101           0        0  \n",
              "\n",
              "[102 rows x 6 columns]"
            ],
            "text/html": [
              "\n",
              "  <div id=\"df-5793ee96-408a-44d0-9ee6-925aea8b0c57\">\n",
              "    <div class=\"colab-df-container\">\n",
              "      <div>\n",
              "<style scoped>\n",
              "    .dataframe tbody tr th:only-of-type {\n",
              "        vertical-align: middle;\n",
              "    }\n",
              "\n",
              "    .dataframe tbody tr th {\n",
              "        vertical-align: top;\n",
              "    }\n",
              "\n",
              "    .dataframe thead th {\n",
              "        text-align: right;\n",
              "    }\n",
              "</style>\n",
              "<table border=\"1\" class=\"dataframe\">\n",
              "  <thead>\n",
              "    <tr style=\"text-align: right;\">\n",
              "      <th></th>\n",
              "      <th>date</th>\n",
              "      <th>id</th>\n",
              "      <th>content</th>\n",
              "      <th>username</th>\n",
              "      <th>like_count</th>\n",
              "      <th>retweet</th>\n",
              "    </tr>\n",
              "  </thead>\n",
              "  <tbody>\n",
              "    <tr>\n",
              "      <th>0</th>\n",
              "      <td>2023-02-27 23:59:31+00:00</td>\n",
              "      <td>1630356987547353093</td>\n",
              "      <td>Two hundred workers at the social network lost...</td>\n",
              "      <td>VozMediaUSA</td>\n",
              "      <td>1</td>\n",
              "      <td>0</td>\n",
              "    </tr>\n",
              "    <tr>\n",
              "      <th>1</th>\n",
              "      <td>2023-02-27 23:58:41+00:00</td>\n",
              "      <td>1630356778956324866</td>\n",
              "      <td>🗣️Jonathan Pomerantz, director comercial y de ...</td>\n",
              "      <td>INMOBILIARE</td>\n",
              "      <td>1</td>\n",
              "      <td>0</td>\n",
              "    </tr>\n",
              "    <tr>\n",
              "      <th>2</th>\n",
              "      <td>2023-02-27 23:58:06+00:00</td>\n",
              "      <td>1630356632696762374</td>\n",
              "      <td>#ULTIMAHORA\\n#Tesla llegará a #México #ElonMus...</td>\n",
              "      <td>LaRedPuntoCom</td>\n",
              "      <td>3</td>\n",
              "      <td>0</td>\n",
              "    </tr>\n",
              "    <tr>\n",
              "      <th>3</th>\n",
              "      <td>2023-02-27 23:57:00+00:00</td>\n",
              "      <td>1630356356065808384</td>\n",
              "      <td>#elonmusk wants $412 mil in tax relief for #te...</td>\n",
              "      <td>TweetyThings1</td>\n",
              "      <td>0</td>\n",
              "      <td>0</td>\n",
              "    </tr>\n",
              "    <tr>\n",
              "      <th>4</th>\n",
              "      <td>2023-02-27 23:56:53+00:00</td>\n",
              "      <td>1630356326055305217</td>\n",
              "      <td>Rupert Murdoch admits Fox News hosts endorsed ...</td>\n",
              "      <td>diypotus</td>\n",
              "      <td>0</td>\n",
              "      <td>0</td>\n",
              "    </tr>\n",
              "    <tr>\n",
              "      <th>...</th>\n",
              "      <td>...</td>\n",
              "      <td>...</td>\n",
              "      <td>...</td>\n",
              "      <td>...</td>\n",
              "      <td>...</td>\n",
              "      <td>...</td>\n",
              "    </tr>\n",
              "    <tr>\n",
              "      <th>97</th>\n",
              "      <td>2023-02-27 22:47:21+00:00</td>\n",
              "      <td>1630338826093617152</td>\n",
              "      <td>#ÚLTIMAHORA, La 4ta Transformación de México e...</td>\n",
              "      <td>36_global</td>\n",
              "      <td>1</td>\n",
              "      <td>0</td>\n",
              "    </tr>\n",
              "    <tr>\n",
              "      <th>98</th>\n",
              "      <td>2023-02-27 22:47:20+00:00</td>\n",
              "      <td>1630338824516542466</td>\n",
              "      <td>JAJAJA #TwitterDown #ElonMusk https://t.co/yVz...</td>\n",
              "      <td>gato_negro_04</td>\n",
              "      <td>0</td>\n",
              "      <td>0</td>\n",
              "    </tr>\n",
              "    <tr>\n",
              "      <th>99</th>\n",
              "      <td>2023-02-27 22:46:47+00:00</td>\n",
              "      <td>1630338683445587970</td>\n",
              "      <td>Media Is Racist Towards Whites &amp;amp; Asians Ac...</td>\n",
              "      <td>kamaljohnsonent</td>\n",
              "      <td>0</td>\n",
              "      <td>1</td>\n",
              "    </tr>\n",
              "    <tr>\n",
              "      <th>100</th>\n",
              "      <td>2023-02-27 22:46:20+00:00</td>\n",
              "      <td>1630338572900356096</td>\n",
              "      <td>Y en noticias más amables.\\n\\n#Tesla #ElonMusk...</td>\n",
              "      <td>garoarenas</td>\n",
              "      <td>53</td>\n",
              "      <td>4</td>\n",
              "    </tr>\n",
              "    <tr>\n",
              "      <th>101</th>\n",
              "      <td>2023-02-27 22:46:01+00:00</td>\n",
              "      <td>1630338494462656513</td>\n",
              "      <td>HiPhi X 2023 Flagship Version\\n\\n#electriccar ...</td>\n",
              "      <td>eAutoCity</td>\n",
              "      <td>0</td>\n",
              "      <td>0</td>\n",
              "    </tr>\n",
              "  </tbody>\n",
              "</table>\n",
              "<p>102 rows × 6 columns</p>\n",
              "</div>\n",
              "      <button class=\"colab-df-convert\" onclick=\"convertToInteractive('df-5793ee96-408a-44d0-9ee6-925aea8b0c57')\"\n",
              "              title=\"Convert this dataframe to an interactive table.\"\n",
              "              style=\"display:none;\">\n",
              "        \n",
              "  <svg xmlns=\"http://www.w3.org/2000/svg\" height=\"24px\"viewBox=\"0 0 24 24\"\n",
              "       width=\"24px\">\n",
              "    <path d=\"M0 0h24v24H0V0z\" fill=\"none\"/>\n",
              "    <path d=\"M18.56 5.44l.94 2.06.94-2.06 2.06-.94-2.06-.94-.94-2.06-.94 2.06-2.06.94zm-11 1L8.5 8.5l.94-2.06 2.06-.94-2.06-.94L8.5 2.5l-.94 2.06-2.06.94zm10 10l.94 2.06.94-2.06 2.06-.94-2.06-.94-.94-2.06-.94 2.06-2.06.94z\"/><path d=\"M17.41 7.96l-1.37-1.37c-.4-.4-.92-.59-1.43-.59-.52 0-1.04.2-1.43.59L10.3 9.45l-7.72 7.72c-.78.78-.78 2.05 0 2.83L4 21.41c.39.39.9.59 1.41.59.51 0 1.02-.2 1.41-.59l7.78-7.78 2.81-2.81c.8-.78.8-2.07 0-2.86zM5.41 20L4 18.59l7.72-7.72 1.47 1.35L5.41 20z\"/>\n",
              "  </svg>\n",
              "      </button>\n",
              "      \n",
              "  <style>\n",
              "    .colab-df-container {\n",
              "      display:flex;\n",
              "      flex-wrap:wrap;\n",
              "      gap: 12px;\n",
              "    }\n",
              "\n",
              "    .colab-df-convert {\n",
              "      background-color: #E8F0FE;\n",
              "      border: none;\n",
              "      border-radius: 50%;\n",
              "      cursor: pointer;\n",
              "      display: none;\n",
              "      fill: #1967D2;\n",
              "      height: 32px;\n",
              "      padding: 0 0 0 0;\n",
              "      width: 32px;\n",
              "    }\n",
              "\n",
              "    .colab-df-convert:hover {\n",
              "      background-color: #E2EBFA;\n",
              "      box-shadow: 0px 1px 2px rgba(60, 64, 67, 0.3), 0px 1px 3px 1px rgba(60, 64, 67, 0.15);\n",
              "      fill: #174EA6;\n",
              "    }\n",
              "\n",
              "    [theme=dark] .colab-df-convert {\n",
              "      background-color: #3B4455;\n",
              "      fill: #D2E3FC;\n",
              "    }\n",
              "\n",
              "    [theme=dark] .colab-df-convert:hover {\n",
              "      background-color: #434B5C;\n",
              "      box-shadow: 0px 1px 3px 1px rgba(0, 0, 0, 0.15);\n",
              "      filter: drop-shadow(0px 1px 2px rgba(0, 0, 0, 0.3));\n",
              "      fill: #FFFFFF;\n",
              "    }\n",
              "  </style>\n",
              "\n",
              "      <script>\n",
              "        const buttonEl =\n",
              "          document.querySelector('#df-5793ee96-408a-44d0-9ee6-925aea8b0c57 button.colab-df-convert');\n",
              "        buttonEl.style.display =\n",
              "          google.colab.kernel.accessAllowed ? 'block' : 'none';\n",
              "\n",
              "        async function convertToInteractive(key) {\n",
              "          const element = document.querySelector('#df-5793ee96-408a-44d0-9ee6-925aea8b0c57');\n",
              "          const dataTable =\n",
              "            await google.colab.kernel.invokeFunction('convertToInteractive',\n",
              "                                                     [key], {});\n",
              "          if (!dataTable) return;\n",
              "\n",
              "          const docLinkHtml = 'Like what you see? Visit the ' +\n",
              "            '<a target=\"_blank\" href=https://colab.research.google.com/notebooks/data_table.ipynb>data table notebook</a>'\n",
              "            + ' to learn more about interactive tables.';\n",
              "          element.innerHTML = '';\n",
              "          dataTable['output_type'] = 'display_data';\n",
              "          await google.colab.output.renderOutput(dataTable, element);\n",
              "          const docLink = document.createElement('div');\n",
              "          docLink.innerHTML = docLinkHtml;\n",
              "          element.appendChild(docLink);\n",
              "        }\n",
              "      </script>\n",
              "    </div>\n",
              "  </div>\n",
              "  "
            ]
          },
          "metadata": {},
          "execution_count": 7
        }
      ]
    },
    {
      "cell_type": "code",
      "source": [],
      "metadata": {
        "id": "x_c_Spy4rhUt"
      },
      "execution_count": null,
      "outputs": []
    }
  ]
}